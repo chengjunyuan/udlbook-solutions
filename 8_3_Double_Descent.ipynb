{
  "cells": [
    {
      "cell_type": "markdown",
      "metadata": {
        "colab_type": "text",
        "id": "view-in-github"
      },
      "source": [
        "<a href=\"https://colab.research.google.com/github/udlbook/udlbook/blob/main/Notebooks/Chap08/8_3_Double_Descent.ipynb\" target=\"_parent\"><img src=\"https://colab.research.google.com/assets/colab-badge.svg\" alt=\"Open In Colab\"/></a>"
      ]
    },
    {
      "cell_type": "markdown",
      "metadata": {
        "id": "L6chybAVFJW2"
      },
      "source": [
        "# **Notebook 8.3: Double Descent**\n",
        "\n",
        "This notebook investigates double descent as described in section 8.4 of the book.\n",
        "\n",
        "It uses the MNIST-1D database which can be found at https://github.com/greydanus/mnist1d\n",
        "\n",
        "Work through the cells below, running each cell in turn. In various places you will see the words \"TODO\". Follow the instructions at these places and make predictions about what is going to happen or write code to complete the functions.\n",
        "\n",
        "Contact me at udlbookmail@gmail.com if you find any mistakes or have any suggestions."
      ]
    },
    {
      "cell_type": "code",
      "execution_count": 1,
      "metadata": {
        "id": "fn9BP5N5TguP"
      },
      "outputs": [
        {
          "name": "stdout",
          "output_type": "stream",
          "text": [
            "Collecting git+https://github.com/greydanus/mnist1d\n",
            "  Cloning https://github.com/greydanus/mnist1d to /private/var/folders/v7/qwgf7b4121df_qjcj5g2n3w00000gn/T/pip-req-build-owig9uue\n",
            "  Running command git clone --filter=blob:none --quiet https://github.com/greydanus/mnist1d /private/var/folders/v7/qwgf7b4121df_qjcj5g2n3w00000gn/T/pip-req-build-owig9uue\n",
            "  Resolved https://github.com/greydanus/mnist1d to commit 7878d96082abd200c546a07a4101fa90b30fdf7e\n",
            "  Installing build dependencies ... \u001b[?25ldone\n",
            "\u001b[?25h  Getting requirements to build wheel ... \u001b[?25ldone\n",
            "\u001b[?25h  Preparing metadata (pyproject.toml) ... \u001b[?25ldone\n",
            "\u001b[?25hRequirement already satisfied: requests in /Users/chengjunyuan/miniconda3/envs/udl/lib/python3.13/site-packages (from mnist1d==0.0.2.post16) (2.32.5)\n",
            "Requirement already satisfied: numpy in /Users/chengjunyuan/miniconda3/envs/udl/lib/python3.13/site-packages (from mnist1d==0.0.2.post16) (2.3.3)\n",
            "Requirement already satisfied: matplotlib in /Users/chengjunyuan/miniconda3/envs/udl/lib/python3.13/site-packages (from mnist1d==0.0.2.post16) (3.10.6)\n",
            "Requirement already satisfied: scipy in /Users/chengjunyuan/miniconda3/envs/udl/lib/python3.13/site-packages (from mnist1d==0.0.2.post16) (1.16.2)\n",
            "Requirement already satisfied: contourpy>=1.0.1 in /Users/chengjunyuan/miniconda3/envs/udl/lib/python3.13/site-packages (from matplotlib->mnist1d==0.0.2.post16) (1.3.1)\n",
            "Requirement already satisfied: cycler>=0.10 in /Users/chengjunyuan/miniconda3/envs/udl/lib/python3.13/site-packages (from matplotlib->mnist1d==0.0.2.post16) (0.11.0)\n",
            "Requirement already satisfied: fonttools>=4.22.0 in /Users/chengjunyuan/miniconda3/envs/udl/lib/python3.13/site-packages (from matplotlib->mnist1d==0.0.2.post16) (4.60.1)\n",
            "Requirement already satisfied: kiwisolver>=1.3.1 in /Users/chengjunyuan/miniconda3/envs/udl/lib/python3.13/site-packages (from matplotlib->mnist1d==0.0.2.post16) (1.4.8)\n",
            "Requirement already satisfied: packaging>=20.0 in /Users/chengjunyuan/miniconda3/envs/udl/lib/python3.13/site-packages (from matplotlib->mnist1d==0.0.2.post16) (25.0)\n",
            "Requirement already satisfied: pillow>=8 in /Users/chengjunyuan/miniconda3/envs/udl/lib/python3.13/site-packages (from matplotlib->mnist1d==0.0.2.post16) (11.3.0)\n",
            "Requirement already satisfied: pyparsing>=2.3.1 in /Users/chengjunyuan/miniconda3/envs/udl/lib/python3.13/site-packages (from matplotlib->mnist1d==0.0.2.post16) (3.2.0)\n",
            "Requirement already satisfied: python-dateutil>=2.7 in /Users/chengjunyuan/miniconda3/envs/udl/lib/python3.13/site-packages (from matplotlib->mnist1d==0.0.2.post16) (2.9.0.post0)\n",
            "Requirement already satisfied: six>=1.5 in /Users/chengjunyuan/miniconda3/envs/udl/lib/python3.13/site-packages (from python-dateutil>=2.7->matplotlib->mnist1d==0.0.2.post16) (1.17.0)\n",
            "Requirement already satisfied: charset_normalizer<4,>=2 in /Users/chengjunyuan/miniconda3/envs/udl/lib/python3.13/site-packages (from requests->mnist1d==0.0.2.post16) (3.4.4)\n",
            "Requirement already satisfied: idna<4,>=2.5 in /Users/chengjunyuan/miniconda3/envs/udl/lib/python3.13/site-packages (from requests->mnist1d==0.0.2.post16) (3.11)\n",
            "Requirement already satisfied: urllib3<3,>=1.21.1 in /Users/chengjunyuan/miniconda3/envs/udl/lib/python3.13/site-packages (from requests->mnist1d==0.0.2.post16) (2.5.0)\n",
            "Requirement already satisfied: certifi>=2017.4.17 in /Users/chengjunyuan/miniconda3/envs/udl/lib/python3.13/site-packages (from requests->mnist1d==0.0.2.post16) (2025.10.5)\n"
          ]
        }
      ],
      "source": [
        "# Run this if you're in a Colab to install MNIST 1D repository\n",
        "!pip install git+https://github.com/greydanus/mnist1d"
      ]
    },
    {
      "cell_type": "code",
      "execution_count": 2,
      "metadata": {
        "id": "hFxuHpRqTgri"
      },
      "outputs": [
        {
          "name": "stdout",
          "output_type": "stream",
          "text": [
            "Using: cpu\n"
          ]
        }
      ],
      "source": [
        "import torch, torch.nn as nn\n",
        "from torch.utils.data import TensorDataset, DataLoader\n",
        "from torch.optim.lr_scheduler import StepLR\n",
        "import numpy as np\n",
        "import matplotlib.pyplot as plt\n",
        "import mnist1d\n",
        "import random\n",
        "random.seed(0)\n",
        "\n",
        "# Try attaching to GPU -- Use \"Change Runtime Type to change to GPUT\"\n",
        "DEVICE = str(torch.device('cuda' if torch.cuda.is_available() else 'cpu'))\n",
        "print('Using:', DEVICE)"
      ]
    },
    {
      "cell_type": "code",
      "execution_count": 4,
      "metadata": {
        "id": "PW2gyXL5UkLU"
      },
      "outputs": [
        {
          "name": "stdout",
          "output_type": "stream",
          "text": [
            "Did or could not load data from ./mnist1d_data.pkl. Rebuilding dataset...\n",
            "Examples in training set: 4000\n",
            "Examples in test set: 4000\n",
            "Dimensionality of each example: 40\n"
          ]
        }
      ],
      "source": [
        "args = mnist1d.data.get_dataset_args()\n",
        "args.num_samples = 8000\n",
        "args.train_split = 0.5\n",
        "args.corr_noise_scale = 0.25\n",
        "args.iid_noise_scale=2e-2\n",
        "data = mnist1d.data.get_dataset(args, path='./mnist1d_data.pkl', download=False, regenerate=True)\n",
        "\n",
        "# Add 15% noise to training labels\n",
        "for c_y in range(len(data['y'])):\n",
        "    random_number = random.random()\n",
        "    if random_number < 0.15 :\n",
        "        random_int = int(random.random() * 10)\n",
        "        data['y'][c_y] = random_int\n",
        "\n",
        "# The training and test input and outputs are in\n",
        "# data['x'], data['y'], data['x_test'], and data['y_test']\n",
        "print(\"Examples in training set: {}\".format(len(data['y'])))\n",
        "print(\"Examples in test set: {}\".format(len(data['y_test'])))\n",
        "print(\"Dimensionality of each example: {}\".format(data['x'].shape[-1]))"
      ]
    },
    {
      "cell_type": "code",
      "execution_count": 5,
      "metadata": {
        "id": "hAIvZOAlTnk9"
      },
      "outputs": [],
      "source": [
        "# Initialize the parameters with He initialization\n",
        "def weights_init(layer_in):\n",
        "  if isinstance(layer_in, nn.Linear):\n",
        "    nn.init.kaiming_uniform_(layer_in.weight)\n",
        "    layer_in.bias.data.fill_(0.0)\n",
        "\n",
        "# Return an initialized model with two hidden layers and n_hidden hidden units at each\n",
        "def get_model(n_hidden):\n",
        "\n",
        "  D_i = 40    # Input dimensions\n",
        "  D_k = n_hidden   # Hidden dimensions\n",
        "  D_o = 10    # Output dimensions\n",
        "\n",
        "  # Define a model with two hidden layers\n",
        "  # And ReLU activations between them\n",
        "  model = nn.Sequential(\n",
        "  nn.Linear(D_i, D_k),\n",
        "  nn.ReLU(),\n",
        "  nn.Linear(D_k, D_k),\n",
        "  nn.ReLU(),\n",
        "  nn.Linear(D_k, D_o))\n",
        "\n",
        "  # Call the function you just defined\n",
        "  model.apply(weights_init)\n",
        "\n",
        "  # Return the model\n",
        "  return model ;"
      ]
    },
    {
      "cell_type": "code",
      "execution_count": 6,
      "metadata": {
        "id": "AazlQhheWmHk"
      },
      "outputs": [],
      "source": [
        "def fit_model(model, data, n_epoch):\n",
        "\n",
        "  # choose cross entropy loss function (equation 5.24)\n",
        "  loss_function = torch.nn.CrossEntropyLoss()\n",
        "  # construct SGD optimizer and initialize learning rate and momentum\n",
        "  # optimizer = torch.optim.Adam(model.parameters(), lr=0.01)\n",
        "  optimizer = torch.optim.SGD(model.parameters(), lr = 0.01, momentum=0.9)\n",
        "\n",
        "\n",
        "  x_train = torch.tensor(data['x'].astype('float32'))\n",
        "  y_train = torch.tensor(data['y'].transpose().astype('long'))\n",
        "  x_test= torch.tensor(data['x_test'].astype('float32'))\n",
        "  y_test = torch.tensor(data['y_test'].astype('long'))\n",
        "\n",
        "  # load the data into a class that creates the batches\n",
        "  data_loader = DataLoader(TensorDataset(x_train,y_train), batch_size=100, shuffle=True, worker_init_fn=np.random.seed(1))\n",
        "\n",
        "  for epoch in range(n_epoch):\n",
        "    # loop over batches\n",
        "    for i, batch in enumerate(data_loader):\n",
        "      # retrieve inputs and labels for this batch\n",
        "      x_batch, y_batch = batch\n",
        "      # zero the parameter gradients\n",
        "      optimizer.zero_grad()\n",
        "      # forward pass -- calculate model output\n",
        "      pred = model(x_batch)\n",
        "      # compute the loss\n",
        "      loss = loss_function(pred, y_batch)\n",
        "      # backward pass\n",
        "      loss.backward()\n",
        "      # SGD update\n",
        "      optimizer.step()\n",
        "\n",
        "    # Run whole dataset to get statistics -- normally wouldn't do this\n",
        "    pred_train = model(x_train)\n",
        "    pred_test = model(x_test)\n",
        "    _, predicted_train_class = torch.max(pred_train.data, 1)\n",
        "    _, predicted_test_class = torch.max(pred_test.data, 1)\n",
        "    errors_train = 100 - 100 * (predicted_train_class == y_train).float().sum() / len(y_train)\n",
        "    errors_test= 100 - 100 * (predicted_test_class == y_test).float().sum() / len(y_test)\n",
        "    losses_train = loss_function(pred_train, y_train).item()\n",
        "    losses_test= loss_function(pred_test, y_test).item()\n",
        "    if epoch%100 ==0 :\n",
        "      print(f'Epoch {epoch:5d}, train loss {losses_train:.6f}, train error {errors_train:3.2f},  test loss {losses_test:.6f}, test error {errors_test:3.2f}')\n",
        "\n",
        "  return errors_train, errors_test\n"
      ]
    },
    {
      "cell_type": "code",
      "execution_count": 7,
      "metadata": {
        "id": "AQNCmFNV6JpV"
      },
      "outputs": [],
      "source": [
        "def count_parameters(model):\n",
        "    return sum(p.numel() for p in model.parameters() if p.requires_grad)"
      ]
    },
    {
      "cell_type": "markdown",
      "metadata": {
        "id": "IcP4UPMudxPS"
      },
      "source": [
        "The following code produces the double descent curve by training the model with different numbers of hidden units and plotting the test error."
      ]
    },
    {
      "cell_type": "code",
      "execution_count": 8,
      "metadata": {
        "id": "K4OmBZGHWXpk"
      },
      "outputs": [
        {
          "name": "stdout",
          "output_type": "stream",
          "text": [
            "Training model with   2 hidden variables\n",
            "Epoch     0, train loss 2.301687, train error 88.85,  test loss 2.303898, test error 89.47\n",
            "Epoch   100, train loss 1.868486, train error 69.70,  test loss 1.720074, test error 66.95\n",
            "Epoch   200, train loss 1.855949, train error 68.62,  test loss 1.702087, test error 66.55\n",
            "Epoch   300, train loss 1.854382, train error 68.85,  test loss 1.704355, test error 65.68\n",
            "Epoch   400, train loss 1.856044, train error 69.32,  test loss 1.707748, test error 66.18\n",
            "Epoch   500, train loss 1.854237, train error 69.15,  test loss 1.702928, test error 66.68\n",
            "Epoch   600, train loss 1.857942, train error 69.50,  test loss 1.708246, test error 66.75\n",
            "Epoch   700, train loss 1.850617, train error 68.40,  test loss 1.704601, test error 66.05\n",
            "Epoch   800, train loss 1.854199, train error 69.07,  test loss 1.711624, test error 66.43\n",
            "Epoch   900, train loss 1.851897, train error 68.57,  test loss 1.705448, test error 66.62\n",
            "Training model with   4 hidden variables\n",
            "Epoch     0, train loss 2.286008, train error 86.30,  test loss 2.281356, test error 85.90\n",
            "Epoch   100, train loss 1.781889, train error 66.35,  test loss 1.625180, test error 63.15\n",
            "Epoch   200, train loss 1.763184, train error 65.75,  test loss 1.605631, test error 62.15\n",
            "Epoch   300, train loss 1.757974, train error 65.07,  test loss 1.599704, test error 62.55\n",
            "Epoch   400, train loss 1.758034, train error 65.40,  test loss 1.604182, test error 62.22\n",
            "Epoch   500, train loss 1.759881, train error 65.60,  test loss 1.603632, test error 61.70\n",
            "Epoch   600, train loss 1.757511, train error 65.10,  test loss 1.610197, test error 62.62\n",
            "Epoch   700, train loss 1.758319, train error 66.07,  test loss 1.605995, test error 62.55\n",
            "Epoch   800, train loss 1.757188, train error 65.22,  test loss 1.610787, test error 63.03\n",
            "Epoch   900, train loss 1.755645, train error 65.22,  test loss 1.611215, test error 63.05\n",
            "Training model with   6 hidden variables\n",
            "Epoch     0, train loss 2.255089, train error 86.18,  test loss 2.246883, test error 85.07\n",
            "Epoch   100, train loss 1.686612, train error 61.28,  test loss 1.504167, test error 58.90\n",
            "Epoch   200, train loss 1.663223, train error 60.47,  test loss 1.489196, test error 57.80\n",
            "Epoch   300, train loss 1.642861, train error 59.05,  test loss 1.478706, test error 56.25\n",
            "Epoch   400, train loss 1.631235, train error 59.10,  test loss 1.488084, test error 56.67\n",
            "Epoch   500, train loss 1.620815, train error 58.25,  test loss 1.484119, test error 56.25\n",
            "Epoch   600, train loss 1.619311, train error 58.40,  test loss 1.489720, test error 56.75\n",
            "Epoch   700, train loss 1.612062, train error 58.58,  test loss 1.484945, test error 55.90\n",
            "Epoch   800, train loss 1.611975, train error 58.75,  test loss 1.501537, test error 56.35\n",
            "Epoch   900, train loss 1.604046, train error 58.08,  test loss 1.487668, test error 55.67\n",
            "Training model with   8 hidden variables\n",
            "Epoch     0, train loss 2.159283, train error 81.32,  test loss 2.127585, test error 81.07\n",
            "Epoch   100, train loss 1.607729, train error 57.03,  test loss 1.436674, test error 54.72\n",
            "Epoch   200, train loss 1.566337, train error 55.15,  test loss 1.398366, test error 52.92\n",
            "Epoch   300, train loss 1.552091, train error 54.20,  test loss 1.395800, test error 53.42\n",
            "Epoch   400, train loss 1.533773, train error 53.22,  test loss 1.394489, test error 53.08\n",
            "Epoch   500, train loss 1.517211, train error 53.05,  test loss 1.389930, test error 52.55\n",
            "Epoch   600, train loss 1.511485, train error 53.12,  test loss 1.393323, test error 52.85\n",
            "Epoch   700, train loss 1.503841, train error 52.65,  test loss 1.401747, test error 53.97\n",
            "Epoch   800, train loss 1.494210, train error 52.47,  test loss 1.418088, test error 53.80\n",
            "Epoch   900, train loss 1.491081, train error 52.00,  test loss 1.415990, test error 54.15\n",
            "Training model with  10 hidden variables\n",
            "Epoch     0, train loss 2.206962, train error 82.05,  test loss 2.196361, test error 81.68\n",
            "Epoch   100, train loss 1.526026, train error 53.12,  test loss 1.373670, test error 52.00\n",
            "Epoch   200, train loss 1.456917, train error 50.03,  test loss 1.323872, test error 50.12\n",
            "Epoch   300, train loss 1.399645, train error 47.72,  test loss 1.281153, test error 47.33\n",
            "Epoch   400, train loss 1.387326, train error 47.78,  test loss 1.282189, test error 47.62\n",
            "Epoch   500, train loss 1.378504, train error 47.17,  test loss 1.284357, test error 47.70\n",
            "Epoch   600, train loss 1.371837, train error 46.33,  test loss 1.279575, test error 47.65\n",
            "Epoch   700, train loss 1.360516, train error 46.28,  test loss 1.278962, test error 47.38\n",
            "Epoch   800, train loss 1.363002, train error 46.65,  test loss 1.283354, test error 47.28\n",
            "Epoch   900, train loss 1.365703, train error 45.88,  test loss 1.286032, test error 47.08\n",
            "Training model with  14 hidden variables\n",
            "Epoch     0, train loss 2.185772, train error 83.20,  test loss 2.152358, test error 82.60\n",
            "Epoch   100, train loss 1.428565, train error 47.88,  test loss 1.325079, test error 49.08\n",
            "Epoch   200, train loss 1.348461, train error 44.83,  test loss 1.306096, test error 48.62\n",
            "Epoch   300, train loss 1.318929, train error 44.72,  test loss 1.316831, test error 48.58\n",
            "Epoch   400, train loss 1.299664, train error 43.88,  test loss 1.330618, test error 48.95\n",
            "Epoch   500, train loss 1.291352, train error 43.15,  test loss 1.353154, test error 49.30\n",
            "Epoch   600, train loss 1.275364, train error 43.47,  test loss 1.356257, test error 48.78\n",
            "Epoch   700, train loss 1.271216, train error 43.20,  test loss 1.370470, test error 49.20\n",
            "Epoch   800, train loss 1.267597, train error 42.65,  test loss 1.382547, test error 49.38\n",
            "Epoch   900, train loss 1.252323, train error 42.03,  test loss 1.396213, test error 50.22\n",
            "Training model with  18 hidden variables\n",
            "Epoch     0, train loss 2.236383, train error 83.07,  test loss 2.245158, test error 84.15\n",
            "Epoch   100, train loss 1.279974, train error 43.03,  test loss 1.267414, test error 48.35\n",
            "Epoch   200, train loss 1.196328, train error 40.35,  test loss 1.316895, test error 47.97\n",
            "Epoch   300, train loss 1.163870, train error 39.58,  test loss 1.347595, test error 48.62\n",
            "Epoch   400, train loss 1.152001, train error 39.60,  test loss 1.373691, test error 48.75\n",
            "Epoch   500, train loss 1.134683, train error 38.67,  test loss 1.400140, test error 49.55\n",
            "Epoch   600, train loss 1.121301, train error 38.15,  test loss 1.431774, test error 50.40\n",
            "Epoch   700, train loss 1.135894, train error 39.10,  test loss 1.451090, test error 50.10\n",
            "Epoch   800, train loss 1.117357, train error 38.17,  test loss 1.458506, test error 49.53\n",
            "Epoch   900, train loss 1.111418, train error 38.53,  test loss 1.475757, test error 49.78\n",
            "Training model with  22 hidden variables\n",
            "Epoch     0, train loss 2.189616, train error 82.07,  test loss 2.158711, test error 82.20\n",
            "Epoch   100, train loss 1.291432, train error 43.47,  test loss 1.360756, test error 51.00\n",
            "Epoch   200, train loss 1.162480, train error 39.50,  test loss 1.415977, test error 51.30\n",
            "Epoch   300, train loss 1.107484, train error 37.58,  test loss 1.501586, test error 51.97\n",
            "Epoch   400, train loss 1.067692, train error 35.85,  test loss 1.545874, test error 51.95\n",
            "Epoch   500, train loss 1.041265, train error 35.50,  test loss 1.628796, test error 52.45\n",
            "Epoch   600, train loss 1.015944, train error 34.35,  test loss 1.690555, test error 53.12\n",
            "Epoch   700, train loss 0.996653, train error 33.72,  test loss 1.736663, test error 53.50\n",
            "Epoch   800, train loss 0.991935, train error 33.75,  test loss 1.805596, test error 53.88\n",
            "Epoch   900, train loss 0.989945, train error 33.25,  test loss 1.856581, test error 54.40\n",
            "Training model with  26 hidden variables\n",
            "Epoch     0, train loss 2.117199, train error 79.28,  test loss 2.075975, test error 78.80\n",
            "Epoch   100, train loss 1.188078, train error 39.85,  test loss 1.328484, test error 49.83\n",
            "Epoch   200, train loss 1.045035, train error 35.35,  test loss 1.396744, test error 49.85\n",
            "Epoch   300, train loss 0.982275, train error 34.20,  test loss 1.512672, test error 50.92\n",
            "Epoch   400, train loss 0.930443, train error 31.57,  test loss 1.619179, test error 51.92\n",
            "Epoch   500, train loss 0.908505, train error 31.20,  test loss 1.722509, test error 52.72\n",
            "Epoch   600, train loss 0.879545, train error 30.05,  test loss 1.783831, test error 53.08\n",
            "Epoch   700, train loss 0.863535, train error 29.68,  test loss 1.878352, test error 53.55\n",
            "Epoch   800, train loss 0.844153, train error 28.85,  test loss 1.928679, test error 53.58\n",
            "Epoch   900, train loss 0.823583, train error 28.20,  test loss 1.983201, test error 54.33\n",
            "Training model with  30 hidden variables\n",
            "Epoch     0, train loss 2.232642, train error 82.32,  test loss 2.226342, test error 82.62\n",
            "Epoch   100, train loss 1.131883, train error 35.38,  test loss 1.317904, test error 47.92\n",
            "Epoch   200, train loss 0.976024, train error 31.65,  test loss 1.481110, test error 50.88\n",
            "Epoch   300, train loss 0.887471, train error 28.62,  test loss 1.674201, test error 53.15\n",
            "Epoch   400, train loss 0.833455, train error 26.97,  test loss 1.838041, test error 53.50\n",
            "Epoch   500, train loss 0.781917, train error 24.90,  test loss 1.997622, test error 53.92\n",
            "Epoch   600, train loss 0.761767, train error 26.35,  test loss 2.158067, test error 54.72\n",
            "Epoch   700, train loss 0.739135, train error 24.40,  test loss 2.269827, test error 54.85\n",
            "Epoch   800, train loss 0.713753, train error 23.90,  test loss 2.408698, test error 55.17\n",
            "Epoch   900, train loss 0.704956, train error 23.32,  test loss 2.558171, test error 55.70\n",
            "Training model with  35 hidden variables\n",
            "Epoch     0, train loss 2.135546, train error 80.38,  test loss 2.114666, test error 79.80\n"
          ]
        },
        {
          "ename": "KeyboardInterrupt",
          "evalue": "",
          "output_type": "error",
          "traceback": [
            "\u001b[31m---------------------------------------------------------------------------\u001b[39m",
            "\u001b[31mKeyboardInterrupt\u001b[39m                         Traceback (most recent call last)",
            "\u001b[36mCell\u001b[39m\u001b[36m \u001b[39m\u001b[32mIn[8]\u001b[39m\u001b[32m, line 20\u001b[39m\n\u001b[32m     18\u001b[39m total_weights_all[c_hidden] = count_parameters(model)\n\u001b[32m     19\u001b[39m \u001b[38;5;66;03m# Train the model\u001b[39;00m\n\u001b[32m---> \u001b[39m\u001b[32m20\u001b[39m errors_train, errors_test = \u001b[43mfit_model\u001b[49m\u001b[43m(\u001b[49m\u001b[43mmodel\u001b[49m\u001b[43m,\u001b[49m\u001b[43m \u001b[49m\u001b[43mdata\u001b[49m\u001b[43m,\u001b[49m\u001b[43m \u001b[49m\u001b[43mn_epoch\u001b[49m\u001b[43m)\u001b[49m\n\u001b[32m     21\u001b[39m \u001b[38;5;66;03m# Store the results\u001b[39;00m\n\u001b[32m     22\u001b[39m errors_train_all[c_hidden] = errors_train\n",
            "\u001b[36mCell\u001b[39m\u001b[36m \u001b[39m\u001b[32mIn[6]\u001b[39m\u001b[32m, line 26\u001b[39m, in \u001b[36mfit_model\u001b[39m\u001b[34m(model, data, n_epoch)\u001b[39m\n\u001b[32m     24\u001b[39m optimizer.zero_grad()\n\u001b[32m     25\u001b[39m \u001b[38;5;66;03m# forward pass -- calculate model output\u001b[39;00m\n\u001b[32m---> \u001b[39m\u001b[32m26\u001b[39m pred = \u001b[43mmodel\u001b[49m\u001b[43m(\u001b[49m\u001b[43mx_batch\u001b[49m\u001b[43m)\u001b[49m\n\u001b[32m     27\u001b[39m \u001b[38;5;66;03m# compute the loss\u001b[39;00m\n\u001b[32m     28\u001b[39m loss = loss_function(pred, y_batch)\n",
            "\u001b[36mFile \u001b[39m\u001b[32m~/miniconda3/envs/udl/lib/python3.13/site-packages/torch/nn/modules/module.py:1739\u001b[39m, in \u001b[36mModule._wrapped_call_impl\u001b[39m\u001b[34m(self, *args, **kwargs)\u001b[39m\n\u001b[32m   1737\u001b[39m     \u001b[38;5;28;01mreturn\u001b[39;00m \u001b[38;5;28mself\u001b[39m._compiled_call_impl(*args, **kwargs)  \u001b[38;5;66;03m# type: ignore[misc]\u001b[39;00m\n\u001b[32m   1738\u001b[39m \u001b[38;5;28;01melse\u001b[39;00m:\n\u001b[32m-> \u001b[39m\u001b[32m1739\u001b[39m     \u001b[38;5;28;01mreturn\u001b[39;00m \u001b[38;5;28;43mself\u001b[39;49m\u001b[43m.\u001b[49m\u001b[43m_call_impl\u001b[49m\u001b[43m(\u001b[49m\u001b[43m*\u001b[49m\u001b[43margs\u001b[49m\u001b[43m,\u001b[49m\u001b[43m \u001b[49m\u001b[43m*\u001b[49m\u001b[43m*\u001b[49m\u001b[43mkwargs\u001b[49m\u001b[43m)\u001b[49m\n",
            "\u001b[36mFile \u001b[39m\u001b[32m~/miniconda3/envs/udl/lib/python3.13/site-packages/torch/nn/modules/module.py:1750\u001b[39m, in \u001b[36mModule._call_impl\u001b[39m\u001b[34m(self, *args, **kwargs)\u001b[39m\n\u001b[32m   1745\u001b[39m \u001b[38;5;66;03m# If we don't have any hooks, we want to skip the rest of the logic in\u001b[39;00m\n\u001b[32m   1746\u001b[39m \u001b[38;5;66;03m# this function, and just call forward.\u001b[39;00m\n\u001b[32m   1747\u001b[39m \u001b[38;5;28;01mif\u001b[39;00m \u001b[38;5;129;01mnot\u001b[39;00m (\u001b[38;5;28mself\u001b[39m._backward_hooks \u001b[38;5;129;01mor\u001b[39;00m \u001b[38;5;28mself\u001b[39m._backward_pre_hooks \u001b[38;5;129;01mor\u001b[39;00m \u001b[38;5;28mself\u001b[39m._forward_hooks \u001b[38;5;129;01mor\u001b[39;00m \u001b[38;5;28mself\u001b[39m._forward_pre_hooks\n\u001b[32m   1748\u001b[39m         \u001b[38;5;129;01mor\u001b[39;00m _global_backward_pre_hooks \u001b[38;5;129;01mor\u001b[39;00m _global_backward_hooks\n\u001b[32m   1749\u001b[39m         \u001b[38;5;129;01mor\u001b[39;00m _global_forward_hooks \u001b[38;5;129;01mor\u001b[39;00m _global_forward_pre_hooks):\n\u001b[32m-> \u001b[39m\u001b[32m1750\u001b[39m     \u001b[38;5;28;01mreturn\u001b[39;00m \u001b[43mforward_call\u001b[49m\u001b[43m(\u001b[49m\u001b[43m*\u001b[49m\u001b[43margs\u001b[49m\u001b[43m,\u001b[49m\u001b[43m \u001b[49m\u001b[43m*\u001b[49m\u001b[43m*\u001b[49m\u001b[43mkwargs\u001b[49m\u001b[43m)\u001b[49m\n\u001b[32m   1752\u001b[39m result = \u001b[38;5;28;01mNone\u001b[39;00m\n\u001b[32m   1753\u001b[39m called_always_called_hooks = \u001b[38;5;28mset\u001b[39m()\n",
            "\u001b[36mFile \u001b[39m\u001b[32m~/miniconda3/envs/udl/lib/python3.13/site-packages/torch/nn/modules/container.py:250\u001b[39m, in \u001b[36mSequential.forward\u001b[39m\u001b[34m(self, input)\u001b[39m\n\u001b[32m    248\u001b[39m \u001b[38;5;28;01mdef\u001b[39;00m\u001b[38;5;250m \u001b[39m\u001b[34mforward\u001b[39m(\u001b[38;5;28mself\u001b[39m, \u001b[38;5;28minput\u001b[39m):\n\u001b[32m    249\u001b[39m     \u001b[38;5;28;01mfor\u001b[39;00m module \u001b[38;5;129;01min\u001b[39;00m \u001b[38;5;28mself\u001b[39m:\n\u001b[32m--> \u001b[39m\u001b[32m250\u001b[39m         \u001b[38;5;28minput\u001b[39m = \u001b[43mmodule\u001b[49m\u001b[43m(\u001b[49m\u001b[38;5;28;43minput\u001b[39;49m\u001b[43m)\u001b[49m\n\u001b[32m    251\u001b[39m     \u001b[38;5;28;01mreturn\u001b[39;00m \u001b[38;5;28minput\u001b[39m\n",
            "\u001b[36mFile \u001b[39m\u001b[32m~/miniconda3/envs/udl/lib/python3.13/site-packages/torch/nn/modules/module.py:1739\u001b[39m, in \u001b[36mModule._wrapped_call_impl\u001b[39m\u001b[34m(self, *args, **kwargs)\u001b[39m\n\u001b[32m   1737\u001b[39m     \u001b[38;5;28;01mreturn\u001b[39;00m \u001b[38;5;28mself\u001b[39m._compiled_call_impl(*args, **kwargs)  \u001b[38;5;66;03m# type: ignore[misc]\u001b[39;00m\n\u001b[32m   1738\u001b[39m \u001b[38;5;28;01melse\u001b[39;00m:\n\u001b[32m-> \u001b[39m\u001b[32m1739\u001b[39m     \u001b[38;5;28;01mreturn\u001b[39;00m \u001b[38;5;28;43mself\u001b[39;49m\u001b[43m.\u001b[49m\u001b[43m_call_impl\u001b[49m\u001b[43m(\u001b[49m\u001b[43m*\u001b[49m\u001b[43margs\u001b[49m\u001b[43m,\u001b[49m\u001b[43m \u001b[49m\u001b[43m*\u001b[49m\u001b[43m*\u001b[49m\u001b[43mkwargs\u001b[49m\u001b[43m)\u001b[49m\n",
            "\u001b[36mFile \u001b[39m\u001b[32m~/miniconda3/envs/udl/lib/python3.13/site-packages/torch/nn/modules/module.py:1750\u001b[39m, in \u001b[36mModule._call_impl\u001b[39m\u001b[34m(self, *args, **kwargs)\u001b[39m\n\u001b[32m   1745\u001b[39m \u001b[38;5;66;03m# If we don't have any hooks, we want to skip the rest of the logic in\u001b[39;00m\n\u001b[32m   1746\u001b[39m \u001b[38;5;66;03m# this function, and just call forward.\u001b[39;00m\n\u001b[32m   1747\u001b[39m \u001b[38;5;28;01mif\u001b[39;00m \u001b[38;5;129;01mnot\u001b[39;00m (\u001b[38;5;28mself\u001b[39m._backward_hooks \u001b[38;5;129;01mor\u001b[39;00m \u001b[38;5;28mself\u001b[39m._backward_pre_hooks \u001b[38;5;129;01mor\u001b[39;00m \u001b[38;5;28mself\u001b[39m._forward_hooks \u001b[38;5;129;01mor\u001b[39;00m \u001b[38;5;28mself\u001b[39m._forward_pre_hooks\n\u001b[32m   1748\u001b[39m         \u001b[38;5;129;01mor\u001b[39;00m _global_backward_pre_hooks \u001b[38;5;129;01mor\u001b[39;00m _global_backward_hooks\n\u001b[32m   1749\u001b[39m         \u001b[38;5;129;01mor\u001b[39;00m _global_forward_hooks \u001b[38;5;129;01mor\u001b[39;00m _global_forward_pre_hooks):\n\u001b[32m-> \u001b[39m\u001b[32m1750\u001b[39m     \u001b[38;5;28;01mreturn\u001b[39;00m \u001b[43mforward_call\u001b[49m\u001b[43m(\u001b[49m\u001b[43m*\u001b[49m\u001b[43margs\u001b[49m\u001b[43m,\u001b[49m\u001b[43m \u001b[49m\u001b[43m*\u001b[49m\u001b[43m*\u001b[49m\u001b[43mkwargs\u001b[49m\u001b[43m)\u001b[49m\n\u001b[32m   1752\u001b[39m result = \u001b[38;5;28;01mNone\u001b[39;00m\n\u001b[32m   1753\u001b[39m called_always_called_hooks = \u001b[38;5;28mset\u001b[39m()\n",
            "\u001b[36mFile \u001b[39m\u001b[32m~/miniconda3/envs/udl/lib/python3.13/site-packages/torch/nn/modules/linear.py:125\u001b[39m, in \u001b[36mLinear.forward\u001b[39m\u001b[34m(self, input)\u001b[39m\n\u001b[32m    124\u001b[39m \u001b[38;5;28;01mdef\u001b[39;00m\u001b[38;5;250m \u001b[39m\u001b[34mforward\u001b[39m(\u001b[38;5;28mself\u001b[39m, \u001b[38;5;28minput\u001b[39m: Tensor) -> Tensor:\n\u001b[32m--> \u001b[39m\u001b[32m125\u001b[39m     \u001b[38;5;28;01mreturn\u001b[39;00m \u001b[43mF\u001b[49m\u001b[43m.\u001b[49m\u001b[43mlinear\u001b[49m\u001b[43m(\u001b[49m\u001b[38;5;28;43minput\u001b[39;49m\u001b[43m,\u001b[49m\u001b[43m \u001b[49m\u001b[38;5;28;43mself\u001b[39;49m\u001b[43m.\u001b[49m\u001b[43mweight\u001b[49m\u001b[43m,\u001b[49m\u001b[43m \u001b[49m\u001b[38;5;28;43mself\u001b[39;49m\u001b[43m.\u001b[49m\u001b[43mbias\u001b[49m\u001b[43m)\u001b[49m\n",
            "\u001b[31mKeyboardInterrupt\u001b[39m: "
          ]
        }
      ],
      "source": [
        "# This code will take a while (~30 mins on GPU) to run!  Go and make a cup of coffee!\n",
        "\n",
        "hidden_variables = np.array([2,4,6,8,10,14,18,22,26,30,35,40,45,50,55,60,70,80,90,100,120,140,160,180,200,250,300,400]) ;\n",
        "\n",
        "errors_train_all = np.zeros_like(hidden_variables)\n",
        "errors_test_all = np.zeros_like(hidden_variables)\n",
        "total_weights_all = np.zeros_like(hidden_variables)\n",
        "\n",
        "# loop over the dataset n_epoch times\n",
        "n_epoch = 1000\n",
        "\n",
        "# For each hidden variable size\n",
        "for c_hidden in range(len(hidden_variables)):\n",
        "    print(f'Training model with {hidden_variables[c_hidden]:3d} hidden variables')\n",
        "    # Get a model\n",
        "    model = get_model(hidden_variables[c_hidden]) ;\n",
        "    # Count and store number of weights\n",
        "    total_weights_all[c_hidden] = count_parameters(model)\n",
        "    # Train the model\n",
        "    errors_train, errors_test = fit_model(model, data, n_epoch)\n",
        "    # Store the results\n",
        "    errors_train_all[c_hidden] = errors_train\n",
        "    errors_test_all[c_hidden]= errors_test\n",
        "\n"
      ]
    },
    {
      "cell_type": "code",
      "execution_count": 9,
      "metadata": {
        "id": "Rw-iRboTXbck"
      },
      "outputs": [
        {
          "data": {
            "image/png": "[encoded data removed]",
            "text/plain": [
              "<Figure size 640x480 with 1 Axes>"
            ]
          },
          "metadata": {},
          "output_type": "display_data"
        }
      ],
      "source": [
        "import matplotlib.pyplot as plt\n",
        "import numpy as np\n",
        "\n",
        "# Assuming data['y'] is available and contains the training examples\n",
        "num_training_examples = len(data['y'])\n",
        "\n",
        "# Find the index where total_weights_all is closest to num_training_examples\n",
        "closest_index = np.argmin(np.abs(np.array(total_weights_all) - num_training_examples))\n",
        "\n",
        "# Get the corresponding value of hidden variables\n",
        "hidden_variable_at_num_training_examples = hidden_variables[closest_index]\n",
        "\n",
        "# Plot the results\n",
        "fig, ax = plt.subplots()\n",
        "ax.plot(hidden_variables, errors_train_all, 'r-', label='train')\n",
        "ax.plot(hidden_variables, errors_test_all, 'b-', label='test')\n",
        "\n",
        "# Add a vertical line at the point where total weights equal the number of training examples\n",
        "ax.axvline(x=hidden_variable_at_num_training_examples, color='g', linestyle='--', label='N(weights) = N(train)')\n",
        "\n",
        "ax.set_ylim(0, 100)\n",
        "ax.set_xlabel('No. hidden variables')\n",
        "ax.set_ylabel('Error')\n",
        "ax.legend()\n",
        "plt.show()\n"
      ]
    }
  ],
  "metadata": {
    "accelerator": "GPU",
    "colab": {
      "gpuType": "T4",
      "include_colab_link": true,
      "provenance": []
    },
    "kernelspec": {
      "display_name": "udl",
      "language": "python",
      "name": "python3"
    },
    "language_info": {
      "codemirror_mode": {
        "name": "ipython",
        "version": 3
      },
      "file_extension": ".py",
      "mimetype": "text/x-python",
      "name": "python",
      "nbconvert_exporter": "python",
      "pygments_lexer": "ipython3",
      "version": "3.13.7"
    }
  },
  "nbformat": 4,
  "nbformat_minor": 0
}
